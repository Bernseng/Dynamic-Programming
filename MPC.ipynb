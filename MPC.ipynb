{
 "cells": [
  {
   "cell_type": "code",
   "execution_count": 1,
   "metadata": {},
   "outputs": [
    {
     "ename": "ModuleNotFoundError",
     "evalue": "No module named 'quadrature'",
     "output_type": "error",
     "traceback": [
      "\u001b[0;31m---------------------------------------------------------------------------\u001b[0m",
      "\u001b[0;31mModuleNotFoundError\u001b[0m                       Traceback (most recent call last)",
      "\u001b[0;32m/var/folders/d8/k9yj32vx0_76gfhvj06fhzzw0000gn/T/ipykernel_9320/327265560.py\u001b[0m in \u001b[0;36m<module>\u001b[0;34m\u001b[0m\n\u001b[1;32m      7\u001b[0m \u001b[0;32mimport\u001b[0m \u001b[0mmatplotlib\u001b[0m\u001b[0;34m.\u001b[0m\u001b[0mpyplot\u001b[0m \u001b[0;32mas\u001b[0m \u001b[0mplt\u001b[0m\u001b[0;34m\u001b[0m\u001b[0;34m\u001b[0m\u001b[0m\n\u001b[1;32m      8\u001b[0m \u001b[0;34m\u001b[0m\u001b[0m\n\u001b[0;32m----> 9\u001b[0;31m \u001b[0;32mfrom\u001b[0m \u001b[0mone_asset\u001b[0m\u001b[0;34m.\u001b[0m\u001b[0mConsumptionSavingModel\u001b[0m \u001b[0;32mimport\u001b[0m \u001b[0mConsumptionSavingModelClass\u001b[0m\u001b[0;34m\u001b[0m\u001b[0;34m\u001b[0m\u001b[0m\n\u001b[0m\u001b[1;32m     10\u001b[0m \u001b[0;32mfrom\u001b[0m \u001b[0mtwo_asset\u001b[0m\u001b[0;34m.\u001b[0m\u001b[0mDurableConsumptionModel\u001b[0m \u001b[0;32mimport\u001b[0m \u001b[0mDurableConsumptionModelClass\u001b[0m\u001b[0;34m\u001b[0m\u001b[0;34m\u001b[0m\u001b[0m\n\u001b[1;32m     11\u001b[0m \u001b[0;32mimport\u001b[0m \u001b[0mone_asset\u001b[0m\u001b[0;34m.\u001b[0m\u001b[0mplots\u001b[0m\u001b[0;34m\u001b[0m\u001b[0;34m\u001b[0m\u001b[0m\n",
      "\u001b[0;32m~/OneDrive - University of Copenhagen/Kandidat/Dynamic Programming/dp2022/one_asset/ConsumptionSavingModel.py\u001b[0m in \u001b[0;36m<module>\u001b[0;34m\u001b[0m\n\u001b[1;32m     17\u001b[0m \u001b[0;32mfrom\u001b[0m \u001b[0mconsav\u001b[0m \u001b[0;32mimport\u001b[0m \u001b[0mModelClass\u001b[0m\u001b[0;34m,\u001b[0m \u001b[0mjit\u001b[0m \u001b[0;31m# baseline model class and jit\u001b[0m\u001b[0;34m\u001b[0m\u001b[0;34m\u001b[0m\u001b[0m\n\u001b[1;32m     18\u001b[0m \u001b[0;32mfrom\u001b[0m \u001b[0mconsav\u001b[0m\u001b[0;34m.\u001b[0m\u001b[0mgrids\u001b[0m \u001b[0;32mimport\u001b[0m \u001b[0mnonlinspace\u001b[0m \u001b[0;31m# grids\u001b[0m\u001b[0;34m\u001b[0m\u001b[0;34m\u001b[0m\u001b[0m\n\u001b[0;32m---> 19\u001b[0;31m \u001b[0;32mfrom\u001b[0m \u001b[0mquadrature\u001b[0m \u001b[0;32mimport\u001b[0m \u001b[0mcreate_PT_shocks\u001b[0m\u001b[0;34m\u001b[0m\u001b[0;34m\u001b[0m\u001b[0m\n\u001b[0m\u001b[1;32m     20\u001b[0m \u001b[0;34m\u001b[0m\u001b[0m\n\u001b[1;32m     21\u001b[0m \u001b[0;32mimport\u001b[0m \u001b[0msimulate\u001b[0m\u001b[0;34m\u001b[0m\u001b[0;34m\u001b[0m\u001b[0m\n",
      "\u001b[0;31mModuleNotFoundError\u001b[0m: No module named 'quadrature'"
     ]
    }
   ],
   "source": [
    "%load_ext autoreload\n",
    "%autoreload 2\n",
    "\n",
    "import time\n",
    "import numpy as np\n",
    "import pandas as pd\n",
    "import matplotlib.pyplot as plt\n",
    "\n",
    "from one_asset.ConsumptionSavingModel import ConsumptionSavingModelClass\n",
    "from two_asset.DurableConsumptionModel import DurableConsumptionModelClass\n",
    "import one_asset.plots\n",
    "\n",
    "from consav import linear_interp\n",
    "from consav.grids import nonlinspace # grids\n",
    "\n",
    "import numba as nb\n",
    "nb.set_num_threads(8)"
   ]
  },
  {
   "cell_type": "code",
   "execution_count": null,
   "metadata": {},
   "outputs": [],
   "source": [
    "two_asset_model = DurableConsumptionModelClass(name='example_negm',par={'solmethod':'negm','do_print':False})\n",
    "two_asset_model.precompile_numba() # solve with very coarse grids\n",
    "two_asset_model.solve()\n",
    "two_asset_model.simulate()"
   ]
  },
  {
   "cell_type": "code",
   "execution_count": null,
   "metadata": {},
   "outputs": [],
   "source": [
    "#Load baseline settings\n",
    "one_asset_model = ConsumptionSavingModelClass()\n",
    "\n",
    "#Solve and simulate\n",
    "one_asset_model.precompile_numba()\n",
    "one_asset_model.solve()\n",
    "one_asset_model.simulate()"
   ]
  }
 ],
 "metadata": {
  "interpreter": {
   "hash": "336d0a3d066a3f2f4e39adf7ee7328ec3323860f0c2dfb701fa93aad536f26f8"
  },
  "kernelspec": {
   "display_name": "Python 3.8.12 ('base')",
   "language": "python",
   "name": "python3"
  },
  "language_info": {
   "codemirror_mode": {
    "name": "ipython",
    "version": 3
   },
   "file_extension": ".py",
   "mimetype": "text/x-python",
   "name": "python",
   "nbconvert_exporter": "python",
   "pygments_lexer": "ipython3",
   "version": "3.8.12"
  },
  "orig_nbformat": 4
 },
 "nbformat": 4,
 "nbformat_minor": 2
}
