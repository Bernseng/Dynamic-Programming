{
 "cells": [
  {
   "cell_type": "code",
   "execution_count": 1,
   "metadata": {},
   "outputs": [
    {
     "name": "stderr",
     "output_type": "stream",
     "text": [
      "OMP: Info #271: omp_set_nested routine deprecated, please use omp_set_max_active_levels instead.\n"
     ]
    }
   ],
   "source": [
    "# magics: ensures that any changes to the modules loaded below will be re-loaded automatically\n",
    "%load_ext autoreload\n",
    "%autoreload 2\n",
    "\n",
    "# load general packages\n",
    "import numpy as np\n",
    "import pandas as pd\n",
    "import copy\n",
    "import matplotlib.pyplot as plt\n",
    "plt.style.use('seaborn-whitegrid')\n",
    "\n",
    "# load modules related to this exercise\n",
    "from TwoAssetModel import TwoAssetModelClass \n",
    "import estimate\n",
    "\n",
    "import numba as nb\n",
    "nb.set_num_threads(8)"
   ]
  },
  {
   "cell_type": "markdown",
   "metadata": {},
   "source": [
    "## Model"
   ]
  },
  {
   "cell_type": "code",
   "execution_count": 2,
   "metadata": {},
   "outputs": [
    {
     "name": "stderr",
     "output_type": "stream",
     "text": [
      "Traceback (most recent call last):\n",
      "  File \"/Users/frederikp/OneDrive - University of Copenhagen/Kandidat/Dynamic Programming/dp2022/two_asset/TwoAssetModel.py\", line 298, in solve\n",
      "    post_decision.compute_wq(t,sol,par,compute_q=True)\n",
      "KeyboardInterrupt\n"
     ]
    },
    {
     "ename": "KeyboardInterrupt",
     "evalue": "",
     "output_type": "error",
     "traceback": [
      "\u001b[0;31m---------------------------------------------------------------------------\u001b[0m",
      "\u001b[0;31mKeyboardInterrupt\u001b[0m                         Traceback (most recent call last)",
      "\u001b[0;32m/var/folders/d8/k9yj32vx0_76gfhvj06fhzzw0000gn/T/ipykernel_81665/2596196115.py\u001b[0m in \u001b[0;36m<module>\u001b[0;34m\u001b[0m\n\u001b[1;32m     10\u001b[0m         })\n\u001b[1;32m     11\u001b[0m \u001b[0mmodel\u001b[0m\u001b[0;34m.\u001b[0m\u001b[0mprecompile_numba\u001b[0m\u001b[0;34m(\u001b[0m\u001b[0;34m)\u001b[0m \u001b[0;31m# solve with very coarse grids\u001b[0m\u001b[0;34m\u001b[0m\u001b[0;34m\u001b[0m\u001b[0m\n\u001b[0;32m---> 12\u001b[0;31m \u001b[0mmodel\u001b[0m\u001b[0;34m.\u001b[0m\u001b[0msolve\u001b[0m\u001b[0;34m(\u001b[0m\u001b[0;34m)\u001b[0m\u001b[0;34m\u001b[0m\u001b[0;34m\u001b[0m\u001b[0m\n\u001b[0m\u001b[1;32m     13\u001b[0m \u001b[0mmodel\u001b[0m\u001b[0;34m.\u001b[0m\u001b[0msimulate\u001b[0m\u001b[0;34m(\u001b[0m\u001b[0;34m)\u001b[0m\u001b[0;34m\u001b[0m\u001b[0;34m\u001b[0m\u001b[0m\n\u001b[1;32m     14\u001b[0m \u001b[0;34m\u001b[0m\u001b[0m\n",
      "\u001b[0;32m~/OneDrive - University of Copenhagen/Kandidat/Dynamic Programming/dp2022/two_asset/TwoAssetModel.py\u001b[0m in \u001b[0;36msolve\u001b[0;34m(self, do_assert)\u001b[0m\n\u001b[1;32m    296\u001b[0m                         \u001b[0mpost_decision\u001b[0m\u001b[0;34m.\u001b[0m\u001b[0mcompute_wq\u001b[0m\u001b[0;34m(\u001b[0m\u001b[0mt\u001b[0m\u001b[0;34m,\u001b[0m\u001b[0msol\u001b[0m\u001b[0;34m,\u001b[0m\u001b[0mpar\u001b[0m\u001b[0;34m)\u001b[0m\u001b[0;34m\u001b[0m\u001b[0;34m\u001b[0m\u001b[0m\n\u001b[1;32m    297\u001b[0m                     \u001b[0;32melif\u001b[0m \u001b[0mpar\u001b[0m\u001b[0;34m.\u001b[0m\u001b[0msolmethod\u001b[0m \u001b[0;34m==\u001b[0m \u001b[0;34m'negm'\u001b[0m\u001b[0;34m:\u001b[0m\u001b[0;34m\u001b[0m\u001b[0;34m\u001b[0m\u001b[0m\n\u001b[0;32m--> 298\u001b[0;31m                         \u001b[0mpost_decision\u001b[0m\u001b[0;34m.\u001b[0m\u001b[0mcompute_wq\u001b[0m\u001b[0;34m(\u001b[0m\u001b[0mt\u001b[0m\u001b[0;34m,\u001b[0m\u001b[0msol\u001b[0m\u001b[0;34m,\u001b[0m\u001b[0mpar\u001b[0m\u001b[0;34m,\u001b[0m\u001b[0mcompute_q\u001b[0m\u001b[0;34m=\u001b[0m\u001b[0;32mTrue\u001b[0m\u001b[0;34m)\u001b[0m\u001b[0;34m\u001b[0m\u001b[0;34m\u001b[0m\u001b[0m\n\u001b[0m\u001b[1;32m    299\u001b[0m                     \u001b[0;32melse\u001b[0m\u001b[0;34m:\u001b[0m\u001b[0;34m\u001b[0m\u001b[0;34m\u001b[0m\u001b[0m\n\u001b[1;32m    300\u001b[0m                         \u001b[0;32mpass\u001b[0m\u001b[0;34m\u001b[0m\u001b[0;34m\u001b[0m\u001b[0m\n",
      "\u001b[0;31mKeyboardInterrupt\u001b[0m: "
     ]
    }
   ],
   "source": [
    "model = TwoAssetModelClass(\n",
    "    name='example_negm',\n",
    "    par={\n",
    "        'solmethod':'negm',\n",
    "        'T':15, # shorten the life cycle\n",
    "        'Tmin':0,\n",
    "        'Tr':10,\n",
    "        'moments_numsim':1,\n",
    "        'do_print':False\n",
    "        })\n",
    "model.precompile_numba() # solve with very coarse grids\n",
    "model.solve()\n",
    "model.simulate()\n",
    "\n",
    "par = model.par\n",
    "sol = model.sol\n",
    "sim = model.sim"
   ]
  },
  {
   "cell_type": "markdown",
   "metadata": {},
   "source": [
    "## Data / obtaining the empirical moments for a and y"
   ]
  },
  {
   "cell_type": "markdown",
   "metadata": {},
   "source": [
    "We tried using true empirical moments from Statistics Denmark scaled to match those of the model. This part unfortunately didn't work out."
   ]
  },
  {
   "cell_type": "code",
   "execution_count": 3,
   "metadata": {},
   "outputs": [],
   "source": [
    "# read data from statistikbanken\n",
    "df_y = pd.read_excel('data/y.xlsx',sheet_name='y',header=0)\n",
    "df_a = pd.read_excel('data/a.xlsx',sheet_name='a',header=0)\n",
    "\n",
    "#interpolating between age intervals\n",
    "df_y = df_y.interpolate(method='linear',axis=0)\n",
    "df_a = df_a.interpolate(method='linear',axis=0)\n",
    "\n",
    "for df in [df_y,df_a]:\n",
    "    df.rename(columns={'Unnamed: 0': 'age'}, inplace=True)\n",
    "\n",
    "#dropping unnecessary rows/cols\n",
    "mask = df_a.age.isin(range(18,25))\n",
    "df_a = df_a.loc[~mask].copy(deep=True)\n",
    "\n",
    "#to np array\n",
    "y = df_y.drop(columns='age').to_numpy().mean(axis=1)\n",
    "a = df_a.drop(columns='age').to_numpy().mean(axis=1)\n",
    "\n",
    "# join into one 56x2 array\n",
    "mean_data = np.array([a,y])#[:,:30]"
   ]
  },
  {
   "cell_type": "markdown",
   "metadata": {},
   "source": [
    "## MOMENTS USING MEAN FOR a AND y"
   ]
  },
  {
   "cell_type": "code",
   "execution_count": 4,
   "metadata": {},
   "outputs": [],
   "source": [
    "# save true parameters\n",
    "par_beta = copy.copy(par.beta)\n",
    "par_rho = copy.copy(par.rho)\n",
    "\n",
    "# data / empirical moments\n",
    "data = copy.copy(sim)\n",
    "data.moments = estimate.calc_moments(par,data)  \n",
    "\n",
    "#data.moments = mean_data  # replace this with \n",
    "#scale_y = model.sim.y.mean()/mean_data[:,1].mean()  \n",
    "#data.moments *= scale_y # scale empirical moments to be of similar scale as simulated moments\n"
   ]
  },
  {
   "cell_type": "code",
   "execution_count": 9,
   "metadata": {},
   "outputs": [
    {
     "name": "stdout",
     "output_type": "stream",
     "text": [
      "1 / 13\n",
      "2 / 13\n",
      "3 / 13\n",
      "4 / 13\n",
      "5 / 13\n",
      "6 / 13\n",
      "7 / 13\n",
      "8 / 13\n",
      "9 / 13\n",
      "10 / 13\n",
      "11 / 13\n",
      "12 / 13\n",
      "13 / 13\n"
     ]
    }
   ],
   "source": [
    "Nbeta = 13 # number of beta values to try\n",
    "beta = np.linspace(0.955,0.975,Nbeta) # values of betas to try\n",
    "obj = np.nan + np.zeros((Nbeta)) # objective function\n",
    "\n",
    "count = 1\n",
    "for i in range(Nbeta):\n",
    "    np.random.seed(1999)   # fix seed \n",
    "    print(f\"{count} / {Nbeta}\")\n",
    "    est_par = ['beta']\n",
    "    theta0 = [beta[i]]\n",
    "    obj[i] = estimate.sum_squared_diff_moments(theta0,model,est_par,data)\n",
    "    count += 1\n",
    "\n",
    "#Re-inset the true parameters \n",
    "par.beta = copy.copy(par_beta)"
   ]
  },
  {
   "cell_type": "code",
   "execution_count": 10,
   "metadata": {},
   "outputs": [
    {
     "data": {
      "image/png": "[encoded data removed]",
      "text/plain": [
       "<Figure size 864x576 with 1 Axes>"
      ]
     },
     "metadata": {},
     "output_type": "display_data"
    }
   ],
   "source": [
    "plt.figure(figsize=(12,8)) # figsize is in inches...\n",
    "plt.plot(beta,obj[:])\n",
    "plt.xticks(fontsize=14)\n",
    "plt.yticks(fontsize=14)\n",
    "plt.xlabel(f'\\u03B2',fontsize=15)\n",
    "plt.savefig('output/estimate_beta.png')\n",
    "plt.show()"
   ]
  },
  {
   "cell_type": "code",
   "execution_count": null,
   "metadata": {},
   "outputs": [],
   "source": []
  }
 ],
 "metadata": {
  "interpreter": {
   "hash": "336d0a3d066a3f2f4e39adf7ee7328ec3323860f0c2dfb701fa93aad536f26f8"
  },
  "kernelspec": {
   "display_name": "Python 3.8.12 ('base')",
   "language": "python",
   "name": "python3"
  },
  "language_info": {
   "codemirror_mode": {
    "name": "ipython",
    "version": 3
   },
   "file_extension": ".py",
   "mimetype": "text/x-python",
   "name": "python",
   "nbconvert_exporter": "python",
   "pygments_lexer": "ipython3",
   "version": "3.8.12"
  },
  "orig_nbformat": 4
 },
 "nbformat": 4,
 "nbformat_minor": 2
}
