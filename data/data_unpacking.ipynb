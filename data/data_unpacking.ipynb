{
 "cells": [
  {
   "cell_type": "markdown",
   "metadata": {},
   "source": [
    "### Attempting to unpack and interpolate data for SMM"
   ]
  },
  {
   "cell_type": "code",
   "execution_count": 4,
   "metadata": {},
   "outputs": [
    {
     "name": "stdout",
     "output_type": "stream",
     "text": [
      "The autoreload extension is already loaded. To reload it, use:\n",
      "  %reload_ext autoreload\n"
     ]
    }
   ],
   "source": [
    "%load_ext autoreload\n",
    "%autoreload 2\n",
    "\n",
    "# load general packages\n",
    "import numpy as np\n",
    "import pandas as pd\n",
    "import matplotlib.pyplot as plt\n",
    "plt.style.use('seaborn-whitegrid')\n",
    "from mpl_toolkits.mplot3d import Axes3D\n",
    "from matplotlib import cm\n",
    "\n"
   ]
  },
  {
   "cell_type": "code",
   "execution_count": 70,
   "metadata": {},
   "outputs": [],
   "source": [
    "y_pd = pd.read_excel('y.xlsx',sheet_name='y',header=0)\n",
    "a_pd = pd.read_excel('a.xlsx',sheet_name='a',header=0)"
   ]
  },
  {
   "cell_type": "code",
   "execution_count": 71,
   "metadata": {},
   "outputs": [],
   "source": [
    "#interpolating between age intervals\n",
    "y_interp = y_pd.interpolate(method='linear',axis=0)\n",
    "a_interp = a_pd.interpolate(method='linear',axis=0)\n",
    "\n",
    "#dropping unnecessary rows/cols\n",
    "a_interp = a_interp.drop(labels=[0,1,2,3,4,5,6],axis=0) #dropping years 18-24\n",
    "\n",
    "y_interp = y_interp.drop(y_interp.columns[[0]],axis=1) #dropping age column\n",
    "a_interp = a_interp.drop(a_interp.columns[[0]],axis=1) #dropping age column\n",
    "\n",
    "#to np array\n",
    "y = y_interp.to_numpy()\n",
    "a = a_interp.to_numpy()\n",
    "\n",
    "# meaning over years\n",
    "mean_y_data = np.mean(y,axis=1)\n",
    "mean_a_data = np.mean(a,axis=1)\n",
    "\n",
    "# reshape\n",
    "mean_y_data = np.reshape(mean_y_data,(56,1))\n",
    "mean_a_data = np.reshape(mean_a_data,(56,1))\n",
    "\n",
    "# join into one tx2 array\n",
    "mean_data = np.append(mean_y_data,mean_a_data,axis=1)"
   ]
  },
  {
   "cell_type": "code",
   "execution_count": 74,
   "metadata": {},
   "outputs": [
    {
     "data": {
      "text/plain": [
       "array([[176917.28571429, 100402.25      ],\n",
       "       [188613.94285714, 105048.14285714],\n",
       "       [200310.6       , 109694.03571429],\n",
       "       [212007.25714286, 114339.92857143],\n",
       "       [223703.91428571, 118985.82142857],\n",
       "       [235400.57142857, 123631.71428571],\n",
       "       [243359.71428571, 131805.        ],\n",
       "       [251318.85714286, 139978.28571429],\n",
       "       [259278.        , 148151.57142857],\n",
       "       [267237.14285714, 156324.85714286],\n",
       "       [275196.28571429, 164498.14285714],\n",
       "       [280978.85714286, 172671.42857143],\n",
       "       [286761.42857143, 180844.71428571],\n",
       "       [292544.        , 189018.        ],\n",
       "       [298326.57142857, 197191.28571429],\n",
       "       [304109.14285714, 205364.57142857],\n",
       "       [306569.28571429, 215035.08571429],\n",
       "       [309029.42857143, 224705.6       ],\n",
       "       [311489.57142857, 234376.11428571],\n",
       "       [313949.71428571, 244046.62857143],\n",
       "       [316409.85714286, 253717.14285714],\n",
       "       [315617.11428571, 263387.65714286],\n",
       "       [314824.37142857, 273058.17142857],\n",
       "       [314031.62857143, 282728.68571429],\n",
       "       [313238.88571429, 292399.2       ],\n",
       "       [312446.14285714, 302069.71428571],\n",
       "       [310234.25714286, 317574.78571429],\n",
       "       [308022.37142857, 333079.85714286],\n",
       "       [305810.48571429, 348584.92857143],\n",
       "       [303598.6       , 364090.        ],\n",
       "       [301386.71428571, 379595.07142857],\n",
       "       [296530.62857143, 395100.14285714],\n",
       "       [291674.54285714, 410605.21428571],\n",
       "       [286818.45714286, 426110.28571429],\n",
       "       [281962.37142857, 441615.35714286],\n",
       "       [277106.28571429, 457120.42857143],\n",
       "       [267860.94285714, 468936.65714286],\n",
       "       [258615.6       , 480752.88571429],\n",
       "       [249370.25714286, 492569.11428571],\n",
       "       [240124.91428571, 504385.34285714],\n",
       "       [230879.57142857, 516201.57142857],\n",
       "       [227842.34285714, 528017.8       ],\n",
       "       [224805.11428571, 539834.02857143],\n",
       "       [221767.88571429, 551650.25714286],\n",
       "       [218730.65714286, 563466.48571429],\n",
       "       [215693.42857143, 575282.71428571],\n",
       "       [212326.46428571, 581300.65714286],\n",
       "       [208959.5       , 587318.6       ],\n",
       "       [205592.53571429, 593336.54285714],\n",
       "       [202225.57142857, 599354.48571429],\n",
       "       [202225.57142857, 605372.42857143],\n",
       "       [202225.57142857, 611390.37142857],\n",
       "       [202225.57142857, 617408.31428571],\n",
       "       [202225.57142857, 623426.25714286],\n",
       "       [202225.57142857, 629444.2       ],\n",
       "       [202225.57142857, 635462.14285714]])"
      ]
     },
     "execution_count": 74,
     "metadata": {},
     "output_type": "execute_result"
    }
   ],
   "source": [
    "mean_data"
   ]
  },
  {
   "cell_type": "code",
   "execution_count": null,
   "metadata": {},
   "outputs": [],
   "source": []
  }
 ],
 "metadata": {
  "interpreter": {
   "hash": "6f1af3359ee966fa549b9342c95a66c864e02d3c200665f3410ce643c369b44e"
  },
  "kernelspec": {
   "display_name": "Python 3.9.12 ('base')",
   "language": "python",
   "name": "python3"
  },
  "language_info": {
   "codemirror_mode": {
    "name": "ipython",
    "version": 3
   },
   "file_extension": ".py",
   "mimetype": "text/x-python",
   "name": "python",
   "nbconvert_exporter": "python",
   "pygments_lexer": "ipython3",
   "version": "3.9.12"
  },
  "orig_nbformat": 4
 },
 "nbformat": 4,
 "nbformat_minor": 2
}
